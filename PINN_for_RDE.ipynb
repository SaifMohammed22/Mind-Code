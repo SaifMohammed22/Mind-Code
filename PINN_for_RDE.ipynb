{
  "cells": [
    {
      "cell_type": "code",
      "execution_count": 3,
      "metadata": {
        "colab": {
          "base_uri": "https://localhost:8080/"
        },
        "id": "HWg-5fIrojx4",
        "outputId": "8fb01b2e-00d7-4384-c5dd-5d2649163b3c",
        "collapsed": true
      },
      "outputs": [
        {
          "output_type": "stream",
          "name": "stdout",
          "text": [
            "Collecting pysr\n",
            "  Downloading pysr-1.2.0-py3-none-any.whl.metadata (54 kB)\n",
            "\u001b[?25l     \u001b[90m━━━━━━━━━━━━━━━━━━━━━━━━━━━━━━━━━━━━━━━━\u001b[0m \u001b[32m0.0/54.6 kB\u001b[0m \u001b[31m?\u001b[0m eta \u001b[36m-:--:--\u001b[0m\r\u001b[2K     \u001b[90m━━━━━━━━━━━━━━━━━━━━━━━━━━━━━━━━━━━━━━━━\u001b[0m \u001b[32m54.6/54.6 kB\u001b[0m \u001b[31m3.6 MB/s\u001b[0m eta \u001b[36m0:00:00\u001b[0m\n",
            "\u001b[?25hRequirement already satisfied: sympy<2.0.0,>=1.0.0 in /usr/local/lib/python3.10/dist-packages (from pysr) (1.13.1)\n",
            "Requirement already satisfied: pandas<3.0.0,>=0.21.0 in /usr/local/lib/python3.10/dist-packages (from pysr) (2.2.2)\n",
            "Requirement already satisfied: numpy<3.0.0,>=1.13.0 in /usr/local/lib/python3.10/dist-packages (from pysr) (1.26.4)\n",
            "Requirement already satisfied: scikit_learn<2.0.0,>=1.0.0 in /usr/local/lib/python3.10/dist-packages (from pysr) (1.5.2)\n",
            "Collecting juliacall==0.9.23 (from pysr)\n",
            "  Downloading juliacall-0.9.23-py3-none-any.whl.metadata (4.6 kB)\n",
            "Requirement already satisfied: click<9.0.0,>=7.0.0 in /usr/local/lib/python3.10/dist-packages (from pysr) (8.1.7)\n",
            "Requirement already satisfied: setuptools>=50.0.0 in /usr/local/lib/python3.10/dist-packages (from pysr) (75.1.0)\n",
            "Collecting juliapkg~=0.1.8 (from juliacall==0.9.23->pysr)\n",
            "  Downloading juliapkg-0.1.15-py3-none-any.whl.metadata (6.1 kB)\n",
            "Requirement already satisfied: python-dateutil>=2.8.2 in /usr/local/lib/python3.10/dist-packages (from pandas<3.0.0,>=0.21.0->pysr) (2.8.2)\n",
            "Requirement already satisfied: pytz>=2020.1 in /usr/local/lib/python3.10/dist-packages (from pandas<3.0.0,>=0.21.0->pysr) (2024.2)\n",
            "Requirement already satisfied: tzdata>=2022.7 in /usr/local/lib/python3.10/dist-packages (from pandas<3.0.0,>=0.21.0->pysr) (2024.2)\n",
            "Requirement already satisfied: scipy>=1.6.0 in /usr/local/lib/python3.10/dist-packages (from scikit_learn<2.0.0,>=1.0.0->pysr) (1.13.1)\n",
            "Requirement already satisfied: joblib>=1.2.0 in /usr/local/lib/python3.10/dist-packages (from scikit_learn<2.0.0,>=1.0.0->pysr) (1.4.2)\n",
            "Requirement already satisfied: threadpoolctl>=3.1.0 in /usr/local/lib/python3.10/dist-packages (from scikit_learn<2.0.0,>=1.0.0->pysr) (3.5.0)\n",
            "Requirement already satisfied: mpmath<1.4,>=1.1.0 in /usr/local/lib/python3.10/dist-packages (from sympy<2.0.0,>=1.0.0->pysr) (1.3.0)\n",
            "Collecting semver~=3.0 (from juliapkg~=0.1.8->juliacall==0.9.23->pysr)\n",
            "  Downloading semver-3.0.2-py3-none-any.whl.metadata (5.0 kB)\n",
            "Requirement already satisfied: six>=1.5 in /usr/local/lib/python3.10/dist-packages (from python-dateutil>=2.8.2->pandas<3.0.0,>=0.21.0->pysr) (1.17.0)\n",
            "Downloading pysr-1.2.0-py3-none-any.whl (92 kB)\n",
            "\u001b[2K   \u001b[90m━━━━━━━━━━━━━━━━━━━━━━━━━━━━━━━━━━━━━━━━\u001b[0m \u001b[32m92.0/92.0 kB\u001b[0m \u001b[31m7.0 MB/s\u001b[0m eta \u001b[36m0:00:00\u001b[0m\n",
            "\u001b[?25hDownloading juliacall-0.9.23-py3-none-any.whl (12 kB)\n",
            "Downloading juliapkg-0.1.15-py3-none-any.whl (16 kB)\n",
            "Downloading semver-3.0.2-py3-none-any.whl (17 kB)\n",
            "Installing collected packages: semver, juliapkg, juliacall, pysr\n",
            "Successfully installed juliacall-0.9.23 juliapkg-0.1.15 pysr-1.2.0 semver-3.0.2\n"
          ]
        }
      ],
      "source": [
        "!pip install pysr"
      ]
    },
    {
      "cell_type": "code",
      "execution_count": null,
      "metadata": {
        "collapsed": true,
        "id": "M1jvXHqInls9",
        "colab": {
          "base_uri": "https://localhost:8080/"
        },
        "outputId": "413443a9-c534-4cf9-9e02-13463156d36e"
      },
      "outputs": [
        {
          "output_type": "stream",
          "name": "stdout",
          "text": [
            "[juliapkg] Found dependencies: /usr/local/lib/python3.10/dist-packages/juliapkg/juliapkg.json\n",
            "[juliapkg] Found dependencies: /usr/local/lib/python3.10/dist-packages/pysr/juliapkg.json\n",
            "[juliapkg] Found dependencies: /usr/local/lib/python3.10/dist-packages/juliacall/juliapkg.json\n",
            "[juliapkg] Locating Julia =1.10.0, ^1.10.3\n",
            "[juliapkg] Querying Julia versions from https://julialang-s3.julialang.org/bin/versions.json\n",
            "[juliapkg] WARNING: About to install Julia 1.11.2 to /root/.julia/environments/pyjuliapkg/pyjuliapkg/install.\n",
            "[juliapkg]   If you use juliapkg in more than one environment, you are likely to\n",
            "[juliapkg]   have Julia installed in multiple locations. It is recommended to\n",
            "[juliapkg]   install JuliaUp (https://github.com/JuliaLang/juliaup) or Julia\n",
            "[juliapkg]   (https://julialang.org/downloads) yourself.\n",
            "[juliapkg] Downloading Julia from https://julialang-s3.julialang.org/bin/linux/x64/1.11/julia-1.11.2-linux-x86_64.tar.gz\n",
            "             download complete\n",
            "[juliapkg] Verifying download\n",
            "[juliapkg] Installing Julia 1.11.2 to /root/.julia/environments/pyjuliapkg/pyjuliapkg/install\n",
            "[juliapkg] Using Julia 1.11.2 at /root/.julia/environments/pyjuliapkg/pyjuliapkg/install/bin/julia\n",
            "[juliapkg] Using Julia project at /root/.julia/environments/pyjuliapkg\n",
            "[juliapkg] Installing packages:\n",
            "           julia> import Pkg\n",
            "           julia> Pkg.Registry.update()\n",
            "           julia> Pkg.add([Pkg.PackageSpec(name=\"SymbolicRegression\", uuid=\"8254be44-1295-4e6a-a16d-46603ac705cb\"), Pkg.PackageSpec(name=\"Serialization\", uuid=\"9e88b42a-f829-5b0c-bbe9-9e923198166b\"), Pkg.PackageSpec(name=\"PythonCall\", uuid=\"6099a3de-0909-46bc-b1f4-468b9a2dfc0d\")])\n",
            "           julia> Pkg.resolve()\n",
            "           julia> Pkg.precompile()\n",
            "Detected IPython. Loading juliacall extension. See https://juliapy.github.io/PythonCall.jl/stable/compat/#IPython\n"
          ]
        }
      ],
      "source": [
        "import os\n",
        "import numpy as np\n",
        "import pandas as pd\n",
        "from PIL import Image\n",
        "from pysr import PySRRegressor\n",
        "import torch\n",
        "import torch.nn as nn\n",
        "import torch.nn.functional as F\n",
        "from scipy.integrate import odeint\n",
        "import matplotlib.pyplot as plt\n",
        "from torch.optim import LBFGS\n",
        "import math"
      ]
    },
    {
      "cell_type": "code",
      "source": [
        "import torch\n",
        "import numpy as np\n",
        "import random\n",
        "\n",
        "# Set the random seed for reproducibility\n",
        "random.seed(42)  # For Python's built-in random module\n",
        "np.random.seed(42)  # For NumPy\n",
        "torch.manual_seed(42)  # For PyTorch (CPU)\n",
        "torch.cuda.manual_seed_all(42)"
      ],
      "metadata": {
        "id": "aj4vQBjnYMg4"
      },
      "execution_count": 1,
      "outputs": []
    },
    {
      "cell_type": "code",
      "execution_count": 2,
      "metadata": {
        "id": "PX9Lc3TDoa1l",
        "colab": {
          "base_uri": "https://localhost:8080/",
          "height": 346
        },
        "outputId": "90727ebd-29e2-4145-aa26-a807f66cb067"
      },
      "outputs": [
        {
          "output_type": "error",
          "ename": "NameError",
          "evalue": "name 'odeint' is not defined",
          "traceback": [
            "\u001b[0;31m---------------------------------------------------------------------------\u001b[0m",
            "\u001b[0;31mNameError\u001b[0m                                 Traceback (most recent call last)",
            "\u001b[0;32m<ipython-input-2-674b2f66ac9d>\u001b[0m in \u001b[0;36m<cell line: 32>\u001b[0;34m()\u001b[0m\n\u001b[1;32m     30\u001b[0m \u001b[0;31m# Generate Alzheimer's and Control synthetic data\u001b[0m\u001b[0;34m\u001b[0m\u001b[0;34m\u001b[0m\u001b[0m\n\u001b[1;32m     31\u001b[0m \u001b[0;34m\u001b[0m\u001b[0m\n\u001b[0;32m---> 32\u001b[0;31m \u001b[0malzheimers_data\u001b[0m \u001b[0;34m=\u001b[0m \u001b[0msynthetic_data\u001b[0m\u001b[0;34m(\u001b[0m\u001b[0mt\u001b[0m\u001b[0;34m.\u001b[0m\u001b[0mnumpy\u001b[0m\u001b[0;34m(\u001b[0m\u001b[0;34m)\u001b[0m\u001b[0;34m.\u001b[0m\u001b[0mflatten\u001b[0m\u001b[0;34m(\u001b[0m\u001b[0;34m)\u001b[0m\u001b[0;34m,\u001b[0m \u001b[0malzheimers_reaction_term\u001b[0m\u001b[0;34m,\u001b[0m \u001b[0mdiffusion_coeff\u001b[0m\u001b[0;34m,\u001b[0m \u001b[0malpha\u001b[0m\u001b[0;34m)\u001b[0m\u001b[0;34m\u001b[0m\u001b[0;34m\u001b[0m\u001b[0m\n\u001b[0m\u001b[1;32m     33\u001b[0m \u001b[0;34m\u001b[0m\u001b[0m\n\u001b[1;32m     34\u001b[0m \u001b[0;31m# Convert each data into a torch tensor\u001b[0m\u001b[0;34m\u001b[0m\u001b[0;34m\u001b[0m\u001b[0m\n",
            "\u001b[0;32m<ipython-input-2-674b2f66ac9d>\u001b[0m in \u001b[0;36msynthetic_data\u001b[0;34m(t, reaction_term, diffusion_coeff, alpha)\u001b[0m\n\u001b[1;32m     20\u001b[0m         \u001b[0;32mreturn\u001b[0m \u001b[0;34m-\u001b[0m \u001b[0mdiffusion_coeff\u001b[0m \u001b[0;34m*\u001b[0m \u001b[0mc\u001b[0m \u001b[0;34m+\u001b[0m \u001b[0malpha\u001b[0m \u001b[0;34m*\u001b[0m \u001b[0mreaction_term\u001b[0m\u001b[0;34m(\u001b[0m\u001b[0mc\u001b[0m\u001b[0;34m)\u001b[0m\u001b[0;34m\u001b[0m\u001b[0;34m\u001b[0m\u001b[0m\n\u001b[1;32m     21\u001b[0m     \u001b[0mc_init\u001b[0m \u001b[0;34m=\u001b[0m \u001b[0;36m0.1\u001b[0m\u001b[0;34m\u001b[0m\u001b[0;34m\u001b[0m\u001b[0m\n\u001b[0;32m---> 22\u001b[0;31m     \u001b[0mc\u001b[0m \u001b[0;34m=\u001b[0m \u001b[0modeint\u001b[0m\u001b[0;34m(\u001b[0m\u001b[0mtau_ode\u001b[0m\u001b[0;34m,\u001b[0m \u001b[0mc_init\u001b[0m\u001b[0;34m,\u001b[0m \u001b[0mt\u001b[0m\u001b[0;34m)\u001b[0m\u001b[0;34m\u001b[0m\u001b[0;34m\u001b[0m\u001b[0m\n\u001b[0m\u001b[1;32m     23\u001b[0m     \u001b[0;32mreturn\u001b[0m \u001b[0mc\u001b[0m\u001b[0;34m\u001b[0m\u001b[0;34m\u001b[0m\u001b[0m\n\u001b[1;32m     24\u001b[0m \u001b[0;34m\u001b[0m\u001b[0m\n",
            "\u001b[0;31mNameError\u001b[0m: name 'odeint' is not defined"
          ]
        }
      ],
      "source": [
        "def save_gif(outfile, files, fps=5, loop=0):\n",
        "    imgs = [Image.open(file) for file in files]\n",
        "    imgs[0].save(fp=outfile, format='GIF', append_images=imgs[1:], save_all=True, duration=int(1000/fps), loop=loop)\n",
        "    for file in files:  # Clean up intermediate files\n",
        "        os.remove(file)\n",
        "\n",
        "\n",
        "# Alzheimer's and Control Reaction Terms\n",
        "\n",
        "def alzheimers_reaction_term(c):\n",
        "    return 0.23 * c ** 3 - 1.34 * c ** 2 + 1.11 * c\n",
        "\n",
        "def control_reaction_term(c):\n",
        "    return -c ** 3 + 0.62 * c ** 2 + 0.39 * c\n",
        "\n",
        "# Generate synthetic data based on reaction term and diffusion coefficient\n",
        "\n",
        "def synthetic_data(t, reaction_term, diffusion_coeff, alpha):\n",
        "    def tau_ode(c, t):\n",
        "        return - diffusion_coeff * c + alpha * reaction_term(c)\n",
        "    c_init = 0.1\n",
        "    c = odeint(tau_ode, c_init, t)\n",
        "    return c\n",
        "\n",
        "# Define time points and diffusion coefficient\n",
        "t = torch.linspace(0, 10, 10).reshape(-1, 1)\n",
        "diffusion_coeff = 0.18\n",
        "alpha = 0.8\n",
        "\n",
        "# Generate Alzheimer's and Control synthetic data\n",
        "\n",
        "alzheimers_data = synthetic_data(t.numpy().flatten(), alzheimers_reaction_term, diffusion_coeff, alpha)\n",
        "\n",
        "# Convert each data into a torch tensor\n",
        "\n",
        "c_alzheimers = torch.tensor(alzheimers_data, dtype=torch.float32)\n",
        "\n",
        "# Define the PINN model\n",
        "class PINN(nn.Module):\n",
        "    def __init__(self):\n",
        "        super(PINN, self).__init__()\n",
        "        # Network to approximate concentration c\n",
        "        self.net_c = nn.Sequential(\n",
        "            nn.Linear(1, 50),\n",
        "            nn.Tanh(),\n",
        "            nn.Linear(50, 50),\n",
        "            nn.Tanh(),\n",
        "            nn.Linear(50, 1)\n",
        "        )\n",
        "        # Network to approximate the reaction term f(c)\n",
        "        self.net_f = nn.Sequential(\n",
        "            nn.Linear(1, 50),\n",
        "            nn.Tanh(),\n",
        "            nn.Linear(50, 50),\n",
        "            nn.Tanh(),\n",
        "            nn.Linear(50, 1)\n",
        "        )\n",
        "\n",
        "    def forward(self, t):\n",
        "        c = self.net_c(t)\n",
        "        f = self.net_f(c)\n",
        "        return c, f\n",
        "\n",
        "# PDE loss function for the PINN\n",
        "def pde_loss(pinn, t, c, diffusion_coeff, alpha):\n",
        "    t.requires_grad = True\n",
        "    c_pred, f_pred = pinn(t)\n",
        "    # Data loss (mean squared error)\n",
        "    data_loss = nn.MSELoss()(c_pred, c)\n",
        "\n",
        "    # PDE loss\n",
        "    c_t = torch.autograd.grad(c_pred.sum(), t, create_graph=True)[0]\n",
        "    diffusion_term =  - diffusion_coeff * c_pred\n",
        "    pde_residual = c_t - diffusion_term -  alpha * f_pred\n",
        "    pde_loss = (pde_residual ** 2).mean()\n",
        "\n",
        "    return data_loss + pde_loss\n",
        "\n",
        "# Function to train PINN using Adam and L-BFGS\n",
        "def train_pinn(pinn, t, c, diffusion_coeff, alpha, adam_epochs=10000, lbfgs_epochs=10000, lr=0.0001):\n",
        "\n",
        "    files = []\n",
        "\n",
        "    adam_loss_history = []\n",
        "    BFGS_loss_history = []\n",
        "\n",
        "    # Adam optimizer for initial training\n",
        "    optimizer_adam = torch.optim.Adam(pinn.parameters(), lr=lr)\n",
        "    print(\"Training with Adam...\")\n",
        "    for epoch in range(adam_epochs):\n",
        "        loss = pde_loss(pinn, t, c, diffusion_coeff, alpha)\n",
        "        adam_loss_history.append(loss.item())\n",
        "        optimizer_adam.zero_grad()\n",
        "        loss.backward()\n",
        "        optimizer_adam.step()\n",
        "\n",
        "        if epoch % 1000 == 0:\n",
        "            print(f'Epoch {epoch}, loss: {loss.item()}')\n",
        "            c_pred, _ = pinn(t)\n",
        "            plt.figure(figsize=(10, 6))\n",
        "            plt.plot(t.detach().numpy(), c.detach().numpy(), 'o', label=\"True Data\")\n",
        "            plt.plot(t.detach().numpy(), c_pred.detach().numpy(), '-', label=\"PINN Prediction\")\n",
        "            plt.xlabel(\"Time\")\n",
        "            plt.ylabel(\"Concentration\")\n",
        "            plt.legend()\n",
        "            file = f\"pinn_adam_epoch_{epoch}.png\"\n",
        "            plt.savefig(file)\n",
        "            files.append(file)\n",
        "            plt.close()\n",
        "\n",
        "    # L-BFGS optimizer for fine-tuning\n",
        "    optimizer_lbfgs = LBFGS(pinn.parameters(), lr=lr, max_iter=lbfgs_epochs)\n",
        "    print(\"Training with L-BFGS...\")\n",
        "\n",
        "    def closure():\n",
        "        optimizer_lbfgs.zero_grad()\n",
        "        loss = pde_loss(pinn, t, c, diffusion_coeff, alpha)\n",
        "        loss.backward()\n",
        "        return loss\n",
        "\n",
        "    for epoch in range(lbfgs_epochs):\n",
        "        loss = optimizer_lbfgs.step(closure)\n",
        "        BFGS_loss_history.append(loss.item())\n",
        "\n",
        "        if epoch % 1000 == 0:\n",
        "            print(f'L-BFGS Iteration {epoch}, loss: {loss.item()}')\n",
        "            c_pred, _ = pinn(t)\n",
        "            plt.figure(figsize=(10, 6))\n",
        "            plt.plot(t.detach().numpy(), c.detach().numpy(), 'o', label=\"True Data\")\n",
        "            plt.plot(t.detach().numpy(), c_pred.detach().numpy(), '-', label=\"PINN Prediction\")\n",
        "            plt.xlabel(\"Time\")\n",
        "            plt.ylabel(\"Concentration\")\n",
        "            plt.legend()\n",
        "            file = f\"pinn_lbfgs_epoch_{epoch}.png\"\n",
        "            plt.savefig(file)\n",
        "            files.append(file)\n",
        "            plt.close()\n",
        "\n",
        "    save_gif(\"pinn_training.gif\", files, fps=3, loop=0)\n",
        "    # Plotting the loss history\n",
        "    plt.figure(figsize=(10, 6))\n",
        "    plt.plot(range(len(adam_loss_history)), adam_loss_history, label='Adam', color='red')\n",
        "    plt.plot(np.arange(len(adam_loss_history), len(adam_loss_history) + len(BFGS_loss_history)),\n",
        "             BFGS_loss_history, label='L-BFGS', color='blue')\n",
        "    plt.yscale('log')\n",
        "    plt.axvline(len(adam_loss_history), color='black', linestyle='--', label='Optimizer switch')\n",
        "    plt.xlabel('Iterations')\n",
        "    plt.ylabel('Loss')\n",
        "    plt.title('PINN Loss')\n",
        "    plt.legend()\n",
        "    plt.grid(True, which=\"both\", linestyle=\"--\", linewidth=0.5)\n",
        "    loss_plot_file = \"pinn_loss_plot.png\"\n",
        "    plt.savefig(loss_plot_file)\n",
        "    plt.show()\n",
        "\n",
        "# Initialize and train PINN for Alzheimer's data\n",
        "pinn_alzheimer = PINN()\n",
        "train_pinn(pinn_alzheimer, t, c_alzheimers, diffusion_coeff, alpha)\n",
        "\n",
        "\n",
        "# Perform symbolic regression on f_pred for each group\n",
        "def symbolic_regression(pinn, c):\n",
        "    c_vals = c.detach().numpy()\n",
        "    f_vals = pinn.net_f(c).detach().numpy()\n",
        "    symbolic_regressor = PySRRegressor(\n",
        "        niterations=40,\n",
        "        binary_operators=[\"+\", \"*\"],\n",
        "    )\n",
        "    symbolic_regressor.fit(c_vals, f_vals)\n",
        "    return symbolic_regressor\n",
        "\n",
        "# Symbolic regression on Alzheimer's reaction term\n",
        "symbolic_regressor_alz = symbolic_regression(pinn_alzheimer, c_alzheimers)\n",
        "print(\"Discovered Alzheimer's reaction model:\", symbolic_regressor_alz.get_best())\n",
        "\n",
        "\n",
        "\n",
        "# Plot the synthetic data for both groups\n",
        "plt.figure(figsize=(10,6))\n",
        "plt.plot(t.detach().numpy(), c_alzheimers.detach().numpy(), 'o', label=\"Alzheimer's Synthetic Data\")\n",
        "plt.plot(t.detach().numpy(), pinn_alzheimer.net_c(t.reshape(-1, 1)).detach().numpy(), label=\"PINN Prediction\")\n",
        "plt.xlabel('Time')\n",
        "plt.ylabel('Concentration')\n",
        "plt.legend(loc='center left', bbox_to_anchor=(1, 0.5))\n",
        "plt.show()"
      ]
    },
    {
      "cell_type": "code",
      "execution_count": null,
      "metadata": {
        "id": "5OvJvOx_JKgE",
        "colab": {
          "base_uri": "https://localhost:8080/"
        },
        "outputId": "7ed5f88f-50d5-4e84-b859-f7fe107fc240"
      },
      "outputs": [
        {
          "output_type": "stream",
          "name": "stdout",
          "text": [
            "Symbolic Regression Equation for Alzheimer's:\n",
            "(0.84351635 + x₀⋅-0.7416543)⋅(0.92050916 + x₀⋅-0.77932596)⋅(x₀ + 0.25574374)⋅(x₀ + x₀ + 0.3134582)\n"
          ]
        }
      ],
      "source": [
        "from sympy import pretty\n",
        "\n",
        "best_eq_sympy_alz = symbolic_regressor_alz.sympy()\n",
        "\n",
        "print(\"Symbolic Regression Equation for Alzheimer's:\")\n",
        "print(pretty(best_eq_sympy_alz))"
      ]
    },
    {
      "cell_type": "code",
      "execution_count": null,
      "metadata": {
        "id": "C6Gc7y-9r6X3",
        "colab": {
          "base_uri": "https://localhost:8080/",
          "height": 542
        },
        "outputId": "ef5e79f8-c40e-4dfa-e13e-b7c4f27d4fb2"
      },
      "outputs": [
        {
          "output_type": "display_data",
          "data": {
            "text/plain": [
              "<Figure size 1000x600 with 1 Axes>"
            ],
            "image/png": "[encoded data removed]"
          },
          "metadata": {}
        }
      ],
      "source": [
        "# Use the discovered symbolic regression models\n",
        "def f_sym_alz(c):\n",
        "    return symbolic_regressor_alz.predict(c.reshape(-1, 1))\n",
        "# Define the ODE system using f_sym for each group and simulate\n",
        "def reaction_diffusion_ode(c, t, diffusion_coeff, alpha,  f_sym):\n",
        "    return - diffusion_coeff * c + alpha * f_sym(c)\n",
        "\n",
        "# Simulate concentration over an extended time period for Alzheimer's\n",
        "time_points = np.linspace(0, 10, 10)\n",
        "alzheimers_simulated = odeint(reaction_diffusion_ode, [0.1], time_points, args=(diffusion_coeff, alpha, f_sym_alz))\n",
        "\n",
        "# Plot simulation results\n",
        "plt.figure(figsize=(10,6))\n",
        "plt.plot(t.detach().numpy(), c_alzheimers.detach().numpy(), 'o', label=\"Alzheimer's Synthetic Data\")\n",
        "plt.plot(time_points, alzheimers_simulated, label=f\"Simulated Alzheimer's Concentration with discovered f(c)\")\n",
        "plt.xlabel('Time')\n",
        "plt.ylabel('Concentration')\n",
        "plt.legend()\n",
        "plt.show()"
      ]
    },
    {
      "cell_type": "code",
      "execution_count": null,
      "metadata": {
        "id": "N_o-WI37xIzX"
      },
      "outputs": [],
      "source": [
        "import re\n",
        "import google.generativeai as genai\n",
        "from google.colab import userdata\n",
        "GEMINI_KEY = userdata.get(\"GEMINI_KEY\")\n",
        "\n",
        "genai.configure(api_key=GEMINI_KEY)"
      ]
    },
    {
      "cell_type": "code",
      "execution_count": null,
      "metadata": {
        "id": "ispnDCbrxJeI"
      },
      "outputs": [],
      "source": [
        "model = genai.GenerativeModel(\"gemini-1.5-flash\")\n",
        "\n",
        "\n",
        "prompt = f\"\"\"\n",
        "persona: You are a proffiecinal neurological doctor.\n",
        "context: We are trying to predict Alzheimer's disease by modeling tau misofold in the brain over 10 years by solving the reaction-diffusion equation and getting the reaction term f(c)\n",
        "using PINN and symbolic regression.\n",
        "\n",
        "text: I will give the the predicted f(c) from the symbolic regression.\n",
        "First, formulate the equation in a interpretable mathimatical representaion with just + and - (e.g. c^3 + c^2 + c).\n",
        "Secondly, I want you to give me a details insights based on this equation like a doctor comparing it with the normal people equation.\n",
        "Eventually, give me some tips to prevent Alzheimer's disease.\n",
        "\n",
        "Inputs:\n",
        "f(c) of healthy people = -c ** 3 + 0.62 * c ** 2 + 0.39 * c\n",
        "predicted alzheimer's f(c) = {best_eq_sympy_alz}\n",
        "protien to be modeled = tau misofold in the brain\n",
        "\n",
        "Output:\n",
        "A polished and well-written doctor like report\n",
        "\"\"\"\n",
        "response = model.generate_content(prompt)"
      ]
    },
    {
      "cell_type": "code",
      "execution_count": null,
      "metadata": {
        "id": "zM_64r5NzewJ"
      },
      "outputs": [],
      "source": [
        "with open('report.txt', 'w') as f:\n",
        "  text = re.sub(r'[*#-]', '', response.text)\n",
        "  f.write(text)"
      ]
    }
  ],
  "metadata": {
    "colab": {
      "provenance": []
    },
    "kernelspec": {
      "display_name": "Python 3",
      "name": "python3"
    },
    "language_info": {
      "name": "python"
    }
  },
  "nbformat": 4,
  "nbformat_minor": 0
}